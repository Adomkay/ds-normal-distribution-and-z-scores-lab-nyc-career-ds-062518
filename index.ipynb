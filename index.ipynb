{
 "cells": [
  {
   "cell_type": "markdown",
   "metadata": {},
   "source": [
    "# Normal Distribution & Z-Scores Lab\n",
    "\n",
    "## Problem Description\n",
    "In this lab, we'll learn about how to calculate and interpret Z-scores with the Normal and Standard Normal Distribution. \n",
    "\n",
    "### Objectives\n",
    "* Calculate mean, standard deviation, and variance of population\n",
    "* Transform a normally distributed sample or population to the Standard Normal Distribution\n",
    "* Calculate and interpret the Z-score for a given value in a Standard Normal Distribution\n",
    "\n"
   ]
  },
  {
   "cell_type": "code",
   "execution_count": null,
   "metadata": {},
   "outputs": [],
   "source": []
  }
 ],
 "metadata": {
  "kernelspec": {
   "display_name": "Python 3",
   "language": "python",
   "name": "python3"
  },
  "language_info": {
   "codemirror_mode": {
    "name": "ipython",
    "version": 3
   },
   "file_extension": ".py",
   "mimetype": "text/x-python",
   "name": "python",
   "nbconvert_exporter": "python",
   "pygments_lexer": "ipython3",
   "version": "3.6.5"
  }
 },
 "nbformat": 4,
 "nbformat_minor": 2
}
